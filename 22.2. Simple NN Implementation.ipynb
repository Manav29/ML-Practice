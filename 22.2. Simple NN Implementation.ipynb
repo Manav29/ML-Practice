{
 "cells": [
  {
   "cell_type": "code",
   "execution_count": 1,
   "metadata": {},
   "outputs": [],
   "source": [
    "import numpy as np"
   ]
  },
  {
   "cell_type": "code",
   "execution_count": 2,
   "metadata": {},
   "outputs": [],
   "source": [
    "X = np.array([[0,0],[0,1],[1,0],[1,1]])                 \n",
    "y = np.array([[0,0,0,1]]).T "
   ]
  },
  {
   "cell_type": "code",
   "execution_count": 3,
   "metadata": {},
   "outputs": [],
   "source": [
    "def sig(z):\n",
    "    return 1/(1+np.exp(-z))\n",
    "\n",
    "def derivativeSig(z):\n",
    "    return sig(z)*(1-sig(z))"
   ]
  },
  {
   "cell_type": "code",
   "execution_count": 7,
   "metadata": {},
   "outputs": [
    {
     "data": {
      "text/plain": [
       "(array([[-0.7237468 ],\n",
       "        [ 0.68302267]]), array([-0.81033681]))"
      ]
     },
     "execution_count": 7,
     "metadata": {},
     "output_type": "execute_result"
    }
   ],
   "source": [
    "weights = 2*np.random.random((2,1))  - 1                    \n",
    "bias = 2*np.random.random(1)  - 1     \n",
    "lr = 0.01\n",
    "weights , bias"
   ]
  },
  {
   "cell_type": "code",
   "execution_count": null,
   "metadata": {},
   "outputs": [],
   "source": [
    "output0 = X                                                  #Dont Run Next 5 Cells\n",
    "output = sig( np.dot( output0,weights) + bias )                 "
   ]
  },
  {
   "cell_type": "code",
   "execution_count": null,
   "metadata": {},
   "outputs": [],
   "source": [
    "#Finding First two terms of the Derivative\n",
    "#First two terms of Derivative Same for all weights(only 1 layer) - Dependent only on output -> Only 1 (y_pred)\n",
    "first_term = output - y                                       #y_pred - y_act\n",
    "\n",
    "input_for_last_layer = np.dot(output0,weights) + bias\n",
    "second_term = derivativeSig(input_for_last_layer)                      #Oj(1-Oj)      #output(1-output)\n",
    "\n",
    "first_two_terms = first_term * second_term               \n",
    " \n",
    "#print(first_term.shape)\n",
    "#print(input_for_last_layer.shape)\n",
    "#print(second_term.shape)\n",
    "#print(first_two_terms.shape)               #All (4,1)\n",
    "\n",
    "#second_term == output*(1-output)\n"
   ]
  },
  {
   "cell_type": "code",
   "execution_count": null,
   "metadata": {},
   "outputs": [],
   "source": [
    "changes = np.array([ [0.0],[0.0] ])            #To update Weights\n",
    "print(changes)"
   ]
  },
  {
   "cell_type": "code",
   "execution_count": null,
   "metadata": {},
   "outputs": [],
   "source": [
    "for i in range(2):\n",
    "    for j in range(4):\n",
    "        changes[i][0] += first_two_terms[j][0] * output0[j][i]             #Derivative\n",
    "        \n",
    "weights = weights - (lr * changes)                   #Gradient Descent"
   ]
  },
  {
   "cell_type": "code",
   "execution_count": null,
   "metadata": {},
   "outputs": [],
   "source": [
    "bias_change = 0.0\n",
    "for j in range(4):                                       #Only 1 bias so no outer loop\n",
    "    bias_change += first_two_terms[j][0] * 1\n",
    "    \n",
    "bias = bias - (lr * bias_change)\n"
   ]
  },
  {
   "cell_type": "code",
   "execution_count": null,
   "metadata": {},
   "outputs": [],
   "source": [
    "#Gradient Descent Currently Only Running Once. Should  be Iterated\n",
    "#Put above 5 cells in a loop"
   ]
  },
  {
   "cell_type": "code",
   "execution_count": 10,
   "metadata": {},
   "outputs": [],
   "source": [
    "for iter in range(10000):\n",
    "    output0 = X\n",
    "    output = sig( np.dot( output0,weights) + bias )  \n",
    "    \n",
    "    first_term = output - y\n",
    "\n",
    "    input_for_last_layer = np.dot(output0,weights) + bias\n",
    "    second_term = derivativeSig(input_for_last_layer)                   \n",
    "\n",
    "    first_two_terms = first_term * second_term               \n",
    "    \n",
    "    changes = np.array([ [0.0],[0.0] ])\n",
    "    \n",
    "    for i in range(2):\n",
    "        for j in range(4):\n",
    "            changes[i][0] += first_two_terms[j][0] * output0[j][i]          \n",
    "    weights = weights - (lr * changes)\n",
    "    \n",
    "    \n",
    "    bias_change = 0.0\n",
    "    for j in range(4):                    \n",
    "        bias_change += first_two_terms[j][0] * 1\n",
    "    bias = bias - (lr * bias_change)\n",
    "    \n",
    "    "
   ]
  },
  {
   "cell_type": "code",
   "execution_count": 18,
   "metadata": {},
   "outputs": [
    {
     "name": "stdout",
     "output_type": "stream",
     "text": [
      "[[3.50647889]\n",
      " [3.50664173]]\n",
      "\n",
      "[-5.36855669]\n",
      "\n",
      "[[0.00463966]\n",
      " [0.13448357]\n",
      " [0.13446462]\n",
      " [0.8381506 ]]\n"
     ]
    }
   ],
   "source": [
    "print(weights,end='\\n\\n')\n",
    "print(bias,end='\\n\\n')\n",
    "print(output)"
   ]
  },
  {
   "cell_type": "code",
   "execution_count": 19,
   "metadata": {},
   "outputs": [],
   "source": [
    "#Vectorised Implementation\n",
    "for iter in range(10000):\n",
    "    output0 = X\n",
    "    output = sig( np.dot( output0,weights) + bias )  \n",
    "    \n",
    "    first_term = output - y\n",
    "\n",
    "    input_for_last_layer = np.dot(output0,weights) + bias\n",
    "    second_term = derivativeSig(input_for_last_layer)                   \n",
    "\n",
    "    first_two_terms = first_term * second_term               \n",
    "    \n",
    "    changes = np.dot(output0.T,first_two_terms) \n",
    "    weights = weights - (lr * changes)\n",
    "\n",
    "    \n",
    "    bias_change = np.sum(first_two_terms)\n",
    "    bias = bias - (lr * bias_change)\n",
    "    "
   ]
  },
  {
   "cell_type": "code",
   "execution_count": null,
   "metadata": {},
   "outputs": [],
   "source": []
  }
 ],
 "metadata": {
  "kernelspec": {
   "display_name": "Python 3",
   "language": "python",
   "name": "python3"
  },
  "language_info": {
   "codemirror_mode": {
    "name": "ipython",
    "version": 3
   },
   "file_extension": ".py",
   "mimetype": "text/x-python",
   "name": "python",
   "nbconvert_exporter": "python",
   "pygments_lexer": "ipython3",
   "version": "3.7.1"
  }
 },
 "nbformat": 4,
 "nbformat_minor": 2
}

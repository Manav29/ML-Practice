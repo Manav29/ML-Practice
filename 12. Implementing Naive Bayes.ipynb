{
 "cells": [
  {
   "cell_type": "code",
   "execution_count": null,
   "metadata": {},
   "outputs": [],
   "source": [
    "import numpy as np"
   ]
  },
  {
   "cell_type": "code",
   "execution_count": null,
   "metadata": {},
   "outputs": [],
   "source": [
    "def fit(X_train,y_train):\n",
    "    result = {}\n",
    "    class_values = set(y_train)       #Gives distinct Class Values\n",
    "    \n",
    "    for current_class in class_values:\n",
    "        result[current_class] = {}\n",
    "        result['total_data'] = len(y_train)\n",
    "        \n",
    "        #Getting Rows of a particular Class\n",
    "        current_class_rows = (y_train == current_class)                    #Boolean Array\n",
    "        X_train_current = X_train[current_class_rows]\n",
    "        y_train_current = y_train[current_class_rows]\n",
    "\n",
    "        result[current_class][\"total_count\"] = len(y_train_current)\n",
    "        \n",
    "        num_features = X_train.shape[1]        \n",
    "        for j in range(1,num_features+1):              #instead of 0,1,2,3,4 we want 1,2,3,4,5   \n",
    "            result[current_class][j] = {}                                                   \n",
    "                                                                                            \n",
    "            all_possible_values = set(X_train[:,j-1])                  #x^j           #j-1 because starting from 1\n",
    "            for current_value in all_possible_values:\n",
    "                result[current_class][j][current_value] = (X_train[:,j-1] == current_value).sum()           #Boolean,sum=count of current value\n",
    "                \n",
    "                \n",
    "                \n",
    "        return result \n",
    "             "
   ]
  },
  {
   "cell_type": "code",
   "execution_count": null,
   "metadata": {},
   "outputs": [],
   "source": [
    "def probability(dictionary,x,current_class):\n",
    "    #output = 1\n",
    "    #class_prob = dictionary[current_class][total_count] / dictionary['total_data']\n",
    "    \n",
    "    #output = dictionary[current_class][total_count] / dictionary['total_data']\n",
    "    output = np.log(dictionary[current_class]['total_count']) - np.log(dictionary['total_data'])\n",
    "    \n",
    "    \n",
    "    num_features = len(dictionary[current_class].keys()) - 1                  #One is total_count\n",
    "    for j in range(1,num_features+1):\n",
    "        xj = x[j-1]\n",
    "        count_current_class_with_value_xj = dictionary[current_class][j][xj] + 1\n",
    "        count_current_class = dictionary[current_class]['total_count'] + len(dictionary[current_class][j].keys())\n",
    "        #current_xj_prob = count_current_class_with_value_xj / count_current_class\n",
    "        current_xj_prob = np.log(count_current_class_with_value_xj)  - np.log(count_current_class)\n",
    "        \n",
    "        #output *= current_xj_prob\n",
    "        output += current_xj_prob\n",
    "        \n",
    "    return output"
   ]
  },
  {
   "cell_type": "code",
   "execution_count": null,
   "metadata": {},
   "outputs": [],
   "source": [
    "def predictSinglePoint(dictionary,x):\n",
    "    classes = dictionary.keys()\n",
    "    \n",
    "    #best_p = -1000\n",
    "    #best_class = -1\n",
    "    firstRun = True\n",
    "    \n",
    "    for current_class in classes:\n",
    "        \n",
    "        if(current_class=='total_data'):\n",
    "            continue\n",
    "        \n",
    "        p_current_class = probability(dictionary,x,current_class)\n",
    "        if(firstRun or p_current_class>best_p):\n",
    "            best_p = p_current_class\n",
    "            best_class = current_class\n",
    "        firstRun=False\n",
    "            \n",
    "    return best_class"
   ]
  },
  {
   "cell_type": "code",
   "execution_count": null,
   "metadata": {},
   "outputs": [],
   "source": [
    "def predict(dictionary ,X_test):                        #result = dictionary\n",
    "    y_pred = []\n",
    "    for x in X_test:\n",
    "        x_class = predictSinglePoint(dictionary,x)\n",
    "        y_pred.append(x_class)\n",
    "    \n",
    "    return y_pred\n",
    "    "
   ]
  },
  {
   "cell_type": "markdown",
   "metadata": {},
   "source": [
    "# Applying to iris"
   ]
  },
  {
   "cell_type": "code",
   "execution_count": null,
   "metadata": {},
   "outputs": [],
   "source": [
    "def makeLabelled(column):\n",
    "    second_limit = column.mean()\n",
    "    first_limit = 0.5 * second_limit\n",
    "    third_limit = 1.5 * second_limit\n",
    "    \n",
    "    for i in range(len(column)):\n",
    "        if(column[i]<first_limit):\n",
    "            column[i] = 0\n",
    "        elif(column[i]<second_limit):\n",
    "            column[i] = 1\n",
    "        elif(column[i]<third_limit):\n",
    "            column[i] = 2\n",
    "        else:\n",
    "            column[i] = 3"
   ]
  },
  {
   "cell_type": "code",
   "execution_count": null,
   "metadata": {},
   "outputs": [],
   "source": [
    "from sklearn import datasets\n",
    "iris = datasets.load_iris()\n",
    "X = iris.data\n",
    "y = iris.target"
   ]
  },
  {
   "cell_type": "code",
   "execution_count": null,
   "metadata": {},
   "outputs": [],
   "source": [
    "for i in range(0,X.shape[-1]):\n",
    "    X[:,i] = makeLabelled(X[:,i])"
   ]
  },
  {
   "cell_type": "code",
   "execution_count": null,
   "metadata": {},
   "outputs": [],
   "source": [
    "from sklearn.model_selection import train_test_split\n",
    "X_train, X_test, y_train, y_test = train_test_split(X,y)"
   ]
  },
  {
   "cell_type": "code",
   "execution_count": null,
   "metadata": {},
   "outputs": [],
   "source": [
    "dictionary = fit(X_train,y_train)"
   ]
  },
  {
   "cell_type": "code",
   "execution_count": null,
   "metadata": {},
   "outputs": [],
   "source": [
    "y_pred = predict(dictionary,X_test)"
   ]
  },
  {
   "cell_type": "code",
   "execution_count": null,
   "metadata": {},
   "outputs": [],
   "source": [
    "from sklearn.metrics import classification_report,confusion_matrix\n",
    "print(classification_report(y_test,y_pred))\n",
    "print(confusion_matrix(y_test,y_pred))"
   ]
  },
  {
   "cell_type": "code",
   "execution_count": null,
   "metadata": {},
   "outputs": [],
   "source": []
  }
 ],
 "metadata": {
  "kernelspec": {
   "display_name": "Python 3",
   "language": "python",
   "name": "python3"
  },
  "language_info": {
   "codemirror_mode": {
    "name": "ipython",
    "version": 3
   },
   "file_extension": ".py",
   "mimetype": "text/x-python",
   "name": "python",
   "nbconvert_exporter": "python",
   "pygments_lexer": "ipython3",
   "version": "3.7.1"
  }
 },
 "nbformat": 4,
 "nbformat_minor": 2
}

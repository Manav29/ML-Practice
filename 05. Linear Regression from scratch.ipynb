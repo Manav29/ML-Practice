{
 "cells": [
  {
   "cell_type": "code",
   "execution_count": 1,
   "metadata": {},
   "outputs": [],
   "source": [
    "#Creating Random Data\n",
    "import numpy as np\n",
    "x = np.arange(0,1,0.1)\n",
    "y = x**2 + 3"
   ]
  },
  {
   "cell_type": "code",
   "execution_count": 2,
   "metadata": {},
   "outputs": [],
   "source": [
    "#print(x.shape)\n",
    "#x = x.reshape(-1,1)                    No need! Our Algo! (customised)\n",
    "#x.shape"
   ]
  },
  {
   "cell_type": "code",
   "execution_count": 3,
   "metadata": {},
   "outputs": [],
   "source": [
    "from sklearn.model_selection import train_test_split\n",
    "X_train, X_test , y_train , y_test = train_test_split(x,y,test_size=0.3)"
   ]
  },
  {
   "cell_type": "code",
   "execution_count": 4,
   "metadata": {},
   "outputs": [
    {
     "data": {
      "text/plain": [
       "(7,)"
      ]
     },
     "execution_count": 4,
     "metadata": {},
     "output_type": "execute_result"
    }
   ],
   "source": [
    "X_train.shape"
   ]
  },
  {
   "cell_type": "code",
   "execution_count": 5,
   "metadata": {},
   "outputs": [],
   "source": [
    "def fit(X_train,y_train):             #No need to take X_train, Can simply take it to be x\n",
    "    \n",
    "    num = (X_train*y_train).mean() - X_train.mean()*y_train.mean()\n",
    "    den = (X_train**2).mean() - (X_train.mean())**2\n",
    "    m = num/den\n",
    "    \n",
    "    c = y_train.mean() - m*X_train.mean()\n",
    "    \n",
    "    return m,c\n",
    "\n"
   ]
  },
  {
   "cell_type": "code",
   "execution_count": 6,
   "metadata": {},
   "outputs": [],
   "source": [
    "def predict(x,m,c):\n",
    "    return m*x + c"
   ]
  },
  {
   "cell_type": "code",
   "execution_count": 7,
   "metadata": {},
   "outputs": [],
   "source": [
    "def score(y_truth,y_pred):\n",
    "    u = ((y_truth - y_pred)**2).sum()\n",
    "    v = ((y_truth - y_truth.mean())**2).sum()\n",
    "    \n",
    "    return 1 - (u/v)\n",
    "    "
   ]
  },
  {
   "cell_type": "code",
   "execution_count": 8,
   "metadata": {},
   "outputs": [],
   "source": [
    "def cost(x,y,m,c):\n",
    "    return ((y-m*x-c)**2).mean()\n",
    "    "
   ]
  },
  {
   "cell_type": "code",
   "execution_count": 9,
   "metadata": {},
   "outputs": [
    {
     "name": "stdout",
     "output_type": "stream",
     "text": [
      "0.8960352422907528 2.8958149779735662\n",
      "Test Score :  0.8708109620199633\n",
      "Test Score :  0.929059327531928\n",
      "Cost on Training Data :  0.005680176211453754\n",
      "Cost on Testing Data :  0.0050067929386040854\n",
      "Cost on Testing Data :  0.43158535387839886\n"
     ]
    }
   ],
   "source": [
    "m,c = fit(X_train,y_train)\n",
    "print(m,c)\n",
    "\n",
    "y_test_pred = predict(X_test,m,c)\n",
    "print(\"Test Score : \" , score(y_test,y_test_pred))\n",
    "\n",
    "y_train_pred = predict(X_train,m,c)\n",
    "print(\"Test Score : \" , score(y_train,y_train_pred))\n",
    "\n",
    "print(\"Cost on Training Data : \" , cost(X_train,y_train,m,c))\n",
    "print(\"Cost on Testing Data : \" , cost(X_test,y_test,m,c))\n",
    "\n",
    "\n",
    "print(\"Cost on Testing Data : \" , cost(X_test,y_test,m+1,c))               #Should be higher than prev(optimal) Cost\n",
    "\n"
   ]
  },
  {
   "cell_type": "code",
   "execution_count": null,
   "metadata": {},
   "outputs": [],
   "source": []
  },
  {
   "cell_type": "code",
   "execution_count": null,
   "metadata": {},
   "outputs": [],
   "source": []
  },
  {
   "cell_type": "code",
   "execution_count": null,
   "metadata": {},
   "outputs": [],
   "source": []
  },
  {
   "cell_type": "code",
   "execution_count": null,
   "metadata": {},
   "outputs": [],
   "source": []
  }
 ],
 "metadata": {
  "kernelspec": {
   "display_name": "Python 3",
   "language": "python",
   "name": "python3"
  },
  "language_info": {
   "codemirror_mode": {
    "name": "ipython",
    "version": 3
   },
   "file_extension": ".py",
   "mimetype": "text/x-python",
   "name": "python",
   "nbconvert_exporter": "python",
   "pygments_lexer": "ipython3",
   "version": "3.7.1"
  }
 },
 "nbformat": 4,
 "nbformat_minor": 2
}

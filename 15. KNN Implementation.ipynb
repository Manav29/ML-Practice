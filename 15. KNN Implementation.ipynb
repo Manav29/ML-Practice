{
 "cells": [
  {
   "cell_type": "code",
   "execution_count": null,
   "metadata": {},
   "outputs": [],
   "source": [
    "def train():\n",
    "    return\n",
    "\n",
    "def predict_one(X_train,y_train,x_test,k):\n",
    "    distances = []\n",
    "    for i in range(len(X_train)):\n",
    "        distance = ((X_train[i,:] - x_test)**2).sum()              #Vector Subtraction\n",
    "        distances.append([distance , i])\n",
    "        distances = sorted(distances)   #distances - dtype = tuple(int distance,int index).Sorts on 1st element(distance)\n",
    "        \n",
    "        targets = []\n",
    "        for i in range(k):\n",
    "            index_of_training_data = (distances[i])[1]\n",
    "            targets.append(y_train[index_of_training_data])      #Get Class of nearest neighbours\n",
    "                      \n",
    "        \n",
    "    return Counter(targets).most_common[1][0][0]\n",
    "\n",
    "def predict(X_train,y_train,X_test,k):\n",
    "    predictions=[]\n",
    "    for x_test in X_test:\n",
    "        predictions.append(predict_one(X_train,y_train,x_test,k))\n",
    "    \n",
    "    return predictions"
   ]
  },
  {
   "cell_type": "code",
   "execution_count": null,
   "metadata": {},
   "outputs": [],
   "source": []
  },
  {
   "cell_type": "code",
   "execution_count": null,
   "metadata": {},
   "outputs": [],
   "source": [
    "a=[1,1,0,1,0,1,0,1,0,2]\n",
    "from collections import Counter\n",
    "#Counter(a)               #Gives Count of all elements\n",
    "#Counter(a).most_common()          #Gives Count of all elements in decreasing Order\n",
    "#Counter(a).most_common(2)          #Gives Count of two most occuring elements\n",
    "Counter(a).most_common(2)[0][0]     #most common, index of array, index of tuple  - Gives Most commonly occuring element"
   ]
  },
  {
   "cell_type": "code",
   "execution_count": null,
   "metadata": {},
   "outputs": [],
   "source": [
    "from sklearn import datasets\n",
    "bc = datasets.load_breast_cancer()\n",
    "X = bc.data\n",
    "y = bc.target"
   ]
  },
  {
   "cell_type": "code",
   "execution_count": null,
   "metadata": {},
   "outputs": [],
   "source": [
    "from sklearn.model_selection import train_test_split\n",
    "X_train, X_test, y_train, y_test = train_test_split(X,y,test_size=0.2)"
   ]
  },
  {
   "cell_type": "code",
   "execution_count": null,
   "metadata": {},
   "outputs": [],
   "source": [
    "y_pred = predict(X_train,y_train,X_test,7)"
   ]
  },
  {
   "cell_type": "code",
   "execution_count": null,
   "metadata": {},
   "outputs": [],
   "source": []
  },
  {
   "cell_type": "code",
   "execution_count": null,
   "metadata": {},
   "outputs": [],
   "source": []
  },
  {
   "cell_type": "code",
   "execution_count": null,
   "metadata": {},
   "outputs": [],
   "source": []
  }
 ],
 "metadata": {
  "kernelspec": {
   "display_name": "Python 3",
   "language": "python",
   "name": "python3"
  },
  "language_info": {
   "codemirror_mode": {
    "name": "ipython",
    "version": 3
   },
   "file_extension": ".py",
   "mimetype": "text/x-python",
   "name": "python",
   "nbconvert_exporter": "python",
   "pygments_lexer": "ipython3",
   "version": "3.7.1"
  }
 },
 "nbformat": 4,
 "nbformat_minor": 2
}
